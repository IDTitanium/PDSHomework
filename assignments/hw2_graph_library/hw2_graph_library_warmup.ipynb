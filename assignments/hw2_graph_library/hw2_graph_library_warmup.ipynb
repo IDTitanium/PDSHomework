{
 "cells": [
  {
   "cell_type": "markdown",
   "metadata": {},
   "source": [
    "# Graph Library Warmup\n",
    "\n",
    "**THIS IS ONLY FOR 15-688 STUDENTS**\n",
    "\n",
    "This is the warmup for the graph library homework. **Do not submit this file**, just try out the problem. You may need to install the requirements in `requirements-warmup.txt` before running this.\n",
    "\n",
    "The solutions are at the end of the file."
   ]
  },
  {
   "cell_type": "markdown",
   "metadata": {},
   "source": [
    "## Using `networkx`\n",
    "\n",
    "In this first part of the question: which will _not_ be graded, you'll load the test graph from the main homework using `networkx` and compute shortest distances from a source node."
   ]
  },
  {
   "cell_type": "code",
   "execution_count": null,
   "metadata": {},
   "outputs": [],
   "source": [
    "import networkx as nx\n",
    "from pathlib import Path\n",
    "import gzip\n",
    "from testing.testing import test"
   ]
  },
  {
   "cell_type": "markdown",
   "metadata": {},
   "source": [
    "Begin by loading this graph into a networkx `DiGraph` object.\n",
    "\n",
    "Note that the nodes in a networkx graph can be any hashable type (ints, strings, etc), so you can use any of these as a potential for the nodes (you could load loads corresponding to the integer indices from the `.graph` file, string versions of indices, or the node names themselves.  However you do it, though, you'll want to make sure that you can determine the actual Wikipedia page from the node number, and vice versa."
   ]
  },
  {
   "cell_type": "code",
   "execution_count": null,
   "metadata": {},
   "outputs": [],
   "source": [
    "def load_files_test(load_files):\n",
    "    edges, nodes = load_files()\n",
    "    test.true(all(isinstance(n, str) for n in nodes))\n",
    "    test.true(all(\n",
    "        isinstance(i, int) and\n",
    "        isinstance(i, int) and\n",
    "        i < len(nodes) and\n",
    "        j < len(nodes) for i, j in edges))\n",
    "    test.equal(len(nodes), 24166)\n",
    "    test.equal(len(edges), 6081246)\n",
    "\n",
    "@test\n",
    "def load_files(basename=\"wikipedia_small\"):\n",
    "    \"\"\"Reads a pair of files (.nodes.gz, .graph.gz) and returns the contents.\n",
    "\n",
    "    Keyword arguments:\n",
    "    basename -- the real part (default 0.0)\n",
    "    \n",
    "    Returns: Tuple[\n",
    "        List[Tuple[int, int]], -- the list of (i, j) tuples representing all edges in the graph\n",
    "        List[str] -- the list of node names\n",
    "    ]\n",
    "    \"\"\"\n",
    "\n",
    "    # Use gzip.open to read the text inside the .gz files instead of expanding them on disk.\n",
    "    \n",
    "    return [], []\n",
    "    "
   ]
  },
  {
   "cell_type": "markdown",
   "metadata": {},
   "source": [
    "Now we load this graph into a networkx `DiGraph` object.\n",
    "\n",
    "The nodes in a `networkx` graph can be any hashable type (`int`, `str`, `frozenset`, etc.). For now, you should use the name as the key."
   ]
  },
  {
   "cell_type": "code",
   "execution_count": null,
   "metadata": {},
   "outputs": [],
   "source": [
    "def build_network_test(build_network):\n",
    "    edges, nodes = load_files()\n",
    "    G = build_network(edges, nodes)\n",
    "    dists_nx = nx.shortest_path_length(G, source='Carnegie_Mellon_University')\n",
    "    \n",
    "    # All nodes accessible from 'Carnegie_Mellon_University' are no more than 5 nodes away:\n",
    "    test.equal(max(dists_nx.values()), 5)\n",
    "    # Find a known shortest path:\n",
    "    test.equal(nx.shortest_path(G, source='Carnegie_Mellon_University', target='List_of_Salticidae_species'),\n",
    "        ['Carnegie_Mellon_University', '2008', '1924', 'Mount_Everest', 'Jumping_spider', 'List_of_Salticidae_species'])\n",
    "\n",
    "@test\n",
    "def build_network(edges, nodes):\n",
    "    \"\"\"Reads a pair of files (.nodes.gz, .graph.gz) and returns the contents.\n",
    "\n",
    "    edges : List[Tuple[int, int]] -- the list of i, j tuples, each represnting an i -> j edge\n",
    "    nodes : List[str] -- the list of node names\n",
    "    \n",
    "    Returns: nx.DiGraph -- the graph represented by the input\n",
    "    \"\"\"\n",
    "\n",
    "    G = nx.DiGraph()\n",
    "    G.add_edges_from([]) # FILL THIS IN\n",
    "    return G"
   ]
  },
  {
   "cell_type": "markdown",
   "metadata": {},
   "source": [
    "After you have loaded the graph, use the `nx.shortest_path_length()` function to get the link distance from the `Carnegie_Mellon_University` node to all other nodes in the network."
   ]
  },
  {
   "cell_type": "markdown",
   "metadata": {},
   "source": [
    "When we run this call, we get a maximum hop count of 5 to any accessible node in the network. (Some nodes cannot be reached by our node, but networkx does not return these in the `shortest_path_length()` result.)\n",
    "\n",
    "One such node is the `List_of_Salticidae_species` page, which gets connected via the path (which you can find via `nx.shortest_path()`:\n",
    "\n",
    "- `Carnegie_Mellon_University`\n",
    "- `California`\n",
    "- `Gasoline`\n",
    "- `Blood`\n",
    "- `Jumping_spider`\n",
    "- `List_of_Salticidae_species`\n",
    "\n",
    "There are also calls in `networkx` that retrieve an adjacency matrix and run the [PageRank algorithm](https://www.link-assistant.com/news/google-page-rank-2019.html), but these are quite slow and would take too long to run on a graph this size."
   ]
  },
  {
   "cell_type": "markdown",
   "metadata": {},
   "source": [
    "## Solutions\n",
    "\n",
    "Here are the solutions for the warmup. You should try the assignment out before reading these."
   ]
  },
  {
   "cell_type": "code",
   "execution_count": null,
   "metadata": {},
   "outputs": [],
   "source": [
    "@test\n",
    "def load_files(basename=\"wikipedia_small\"):\n",
    "    with gzip.open(f\"{basename}.graph.gz\", 'rt') as f:\n",
    "        links = []\n",
    "        for row in f:\n",
    "            i, j = tuple(row.strip().split())\n",
    "            links.append((int(i), int(j)))\n",
    "    with gzip.open(f\"{basename}.nodes.gz\", 'rt') as f:\n",
    "        nodes = [a.strip() for a in f]\n",
    "\n",
    "    return links, nodes\n",
    "\n",
    "@test\n",
    "def build_network(edges, nodes):\n",
    "    G = nx.DiGraph()\n",
    "    G.add_edges_from([(nodes[i], nodes[j]) for i, j in edges])\n",
    "    return G"
   ]
  }
 ],
 "metadata": {
  "anaconda-cloud": {},
  "kernelspec": {
   "display_name": "Python 3",
   "language": "python",
   "name": "python3"
  },
  "language_info": {
   "codemirror_mode": {
    "name": "ipython",
    "version": 3
   },
   "file_extension": ".py",
   "mimetype": "text/x-python",
   "name": "python",
   "nbconvert_exporter": "python",
   "pygments_lexer": "ipython3",
   "version": "3.7.3"
  }
 },
 "nbformat": 4,
 "nbformat_minor": 1
}
